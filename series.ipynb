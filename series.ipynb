{
  "nbformat": 4,
  "nbformat_minor": 0,
  "metadata": {
    "colab": {
      "provenance": [],
      "authorship_tag": "ABX9TyMIfJY0NvrNAXubtDdttQJK",
      "include_colab_link": true
    },
    "kernelspec": {
      "name": "python3",
      "display_name": "Python 3"
    },
    "language_info": {
      "name": "python"
    }
  },
  "cells": [
    {
      "cell_type": "markdown",
      "metadata": {
        "id": "view-in-github",
        "colab_type": "text"
      },
      "source": [
        "<a href=\"https://colab.research.google.com/github/murilofmatos/series-collab/blob/master/series.ipynb\" target=\"_parent\"><img src=\"https://colab.research.google.com/assets/colab-badge.svg\" alt=\"Open In Colab\"/></a>"
      ]
    },
    {
      "cell_type": "code",
      "execution_count": null,
      "metadata": {
        "id": "u-3bod1cdQea"
      },
      "outputs": [],
      "source": [
        "import pandas as pd"
      ]
    },
    {
      "cell_type": "code",
      "source": [
        "# Cria a Series notas\n",
        "grades = pd.Series([7.6, 5.0, 8.5, 9.5, 6.4])\n",
        "\n",
        "# Cria a Series alunos\n",
        "lst_registration = ['M02', 'M05', 'M13', 'M14', 'M19']\n",
        "lst_names = ['Bob', 'Dayse', 'Bill', 'Cris', 'Jimi']\n",
        "students = pd.Series(lst_names, index=lst_registration)\n",
        "\n",
        "print(grades)\n",
        "print('---------')\n",
        "print(students)"
      ],
      "metadata": {
        "colab": {
          "base_uri": "https://localhost:8080/"
        },
        "id": "Vj022nHVeFdr",
        "outputId": "36458d19-a359-4d55-c610-5fc88681fcaf"
      },
      "execution_count": null,
      "outputs": [
        {
          "output_type": "stream",
          "name": "stdout",
          "text": [
            "0    7.6\n",
            "1    5.0\n",
            "2    8.5\n",
            "3    9.5\n",
            "4    6.4\n",
            "dtype: float64\n",
            "---------\n",
            "M02      Bob\n",
            "M05    Dayse\n",
            "M13     Bill\n",
            "M14     Cris\n",
            "M19     Jimi\n",
            "dtype: object\n"
          ]
        }
      ]
    },
    {
      "cell_type": "code",
      "source": [
        "# outra forma de criação de Series - a partir de um dicionario\n",
        "dic_students = {'M02':'Bob', 'M05':'Dayse', 'M13':'Bill', 'M14':'Cris', 'M19':'Jimi'}\n",
        "students2 = pd.Series(dic_students)\n",
        "\n",
        "print(students2)"
      ],
      "metadata": {
        "colab": {
          "base_uri": "https://localhost:8080/"
        },
        "id": "yaaD3gLUgXy2",
        "outputId": "d246b1df-4cce-46ca-d82e-29b5ca872a25"
      },
      "execution_count": null,
      "outputs": [
        {
          "output_type": "stream",
          "name": "stdout",
          "text": [
            "M02      Bob\n",
            "M05    Dayse\n",
            "M13     Bill\n",
            "M14     Cris\n",
            "M19     Jimi\n",
            "dtype: object\n"
          ]
        }
      ]
    },
    {
      "cell_type": "code",
      "source": [
        "# Propriedades básicas das Series\n",
        "students = pd.Series({'M02':'Bob', 'M05':'Dayse', 'M13':'Bill', 'M14':'Cris', 'M19':'Jimi'})\n",
        "\n",
        "#atribui nomes p/ os vetores de dados e rótulos (indce)\n",
        "students.name = 'Alunos'\n",
        "students.index.name = 'Matricula'\n",
        "\n",
        "print(students)\n",
        "print('--------')\n",
        "\n",
        "size = students.size\n",
        "data = students.values\n",
        "labels = students.index\n",
        "students_type = type(students)\n",
        "students_dtype = students.dtype\n",
        "students_idx_dtype = students.index.dtype\n",
        "\n",
        "print('Número de elementos:', size)\n",
        "print('Vetor de dados:', data)\n",
        "print('Vetor de rótulos:', labels)\n",
        "print('Tipo:', students_type)\n",
        "print('dtype da Series:', students_dtype)\n",
        "print('dtype do vetor de dados:', students_idx_dtype)"
      ],
      "metadata": {
        "colab": {
          "base_uri": "https://localhost:8080/"
        },
        "id": "5xw_PAVyhWze",
        "outputId": "2271fb72-9b43-4800-c12e-44061db9b5b4"
      },
      "execution_count": null,
      "outputs": [
        {
          "output_type": "stream",
          "name": "stdout",
          "text": [
            "Matricula\n",
            "M02      Bob\n",
            "M05    Dayse\n",
            "M13     Bill\n",
            "M14     Cris\n",
            "M19     Jimi\n",
            "Name: Alunos, dtype: object\n",
            "--------\n",
            "Número de elementos: 5\n",
            "Vetor de dados: ['Bob' 'Dayse' 'Bill' 'Cris' 'Jimi']\n",
            "Vetor de rótulos: Index(['M02', 'M05', 'M13', 'M14', 'M19'], dtype='object', name='Matricula')\n",
            "Tipo: <class 'pandas.core.series.Series'>\n",
            "dtype da Series: object\n",
            "dtype do vetor de dados: object\n"
          ]
        }
      ]
    },
    {
      "cell_type": "code",
      "source": [
        "# indexação booleano\n",
        "\n",
        "# obtêm os indices dos alunos aprovados\n",
        "idx_approved = grades [grades >= 7.0].index\n",
        "\n",
        "# obtêm os nomes dos alunos aprovados\n",
        "print('Relação dos alunos aprovados')\n",
        "# print(students[idx_approved])\n",
        "print(students.iloc[idx_approved])"
      ],
      "metadata": {
        "colab": {
          "base_uri": "https://localhost:8080/"
        },
        "id": "3iLZnVXxkl0a",
        "outputId": "9e7f8473-847c-4cd9-a381-d7af46353e29"
      },
      "execution_count": null,
      "outputs": [
        {
          "output_type": "stream",
          "name": "stdout",
          "text": [
            "Relação dos alunos aprovados\n",
            "Matricula\n",
            "M02     Bob\n",
            "M13    Bill\n",
            "M14    Cris\n",
            "Name: Alunos, dtype: object\n"
          ]
        }
      ]
    },
    {
      "cell_type": "code",
      "source": [
        "# busca em Series\n",
        "\n",
        "has_M13 = 'M13' in students\n",
        "has_M99 = 'M99' in students\n",
        "print('Existe o rótulo \"M13\"? ->', has_M13)\n",
        "print('Existe o rótulo \"M99\"? ->', has_M99)\n",
        "\n",
        "# testa se valor faz parte da Series\n",
        "has_bob = students.isin(['Bob'])\n",
        "has_teste = students.isin(['Cris'])\n",
        "print('Existe o valor \"Bob\"? ->', has_bob)\n",
        "print('Existe o valor \"Cris\"? ->', has_teste)"
      ],
      "metadata": {
        "colab": {
          "base_uri": "https://localhost:8080/"
        },
        "id": "AJ92J9fCmW1v",
        "outputId": "5a9964d9-932d-4687-8c37-cc06d87fbe8b"
      },
      "execution_count": null,
      "outputs": [
        {
          "output_type": "stream",
          "name": "stdout",
          "text": [
            "Existe o rótulo \"M13\"? -> True\n",
            "Existe o rótulo \"M99\"? -> False\n",
            "Existe o valor \"Bob\"? -> Matricula\n",
            "M02     True\n",
            "M05    False\n",
            "M13    False\n",
            "M14    False\n",
            "M19    False\n",
            "Name: Alunos, dtype: bool\n",
            "Existe o valor \"Cris\"? -> Matricula\n",
            "M02    False\n",
            "M05    False\n",
            "M13    False\n",
            "M14     True\n",
            "M19    False\n",
            "Name: Alunos, dtype: bool\n"
          ]
        }
      ]
    },
    {
      "cell_type": "code",
      "source": [
        "# Inserindo, Alterando e Removendo elementos de Series\n",
        "\n",
        "print('Series original')\n",
        "print(students)\n",
        "\n",
        "# Insere o aluno de matrícula M55, Rakesh\n",
        "students['M55'] = 'Rakesh'\n",
        "print('Series com novo aluno')\n",
        "print(students)\n",
        "\n",
        "# Alterar os nomes Bill, Cris e Jimi para Billy, Cristy, Jimy\n",
        "students['M13'] = 'Billy'\n",
        "students[['M14', 'M19']] = 'Cristy', 'Jimy'\n",
        "print('Series com alterações')\n",
        "print(students)\n",
        "\n",
        "# Remove o aluno de matricula M01 (Bob)\n",
        "students = students.drop(\"M02\")\n",
        "print(students)"
      ],
      "metadata": {
        "colab": {
          "base_uri": "https://localhost:8080/",
          "height": 755
        },
        "id": "hdlTypXHqz-x",
        "outputId": "7ffd8b73-1a38-4782-f255-0210b8f6c108"
      },
      "execution_count": null,
      "outputs": [
        {
          "output_type": "stream",
          "name": "stdout",
          "text": [
            "Series original\n",
            "Matricula\n",
            "M05     Dayse\n",
            "M13     Billy\n",
            "M14    Cristy\n",
            "M19      Jimy\n",
            "M55    Rakesh\n",
            "Name: Alunos, dtype: object\n",
            "Series com novo aluno\n",
            "Matricula\n",
            "M05     Dayse\n",
            "M13     Billy\n",
            "M14    Cristy\n",
            "M19      Jimy\n",
            "M55    Rakesh\n",
            "Name: Alunos, dtype: object\n",
            "Series com alterações\n",
            "Matricula\n",
            "M05     Dayse\n",
            "M13     Billy\n",
            "M14    Cristy\n",
            "M19      Jimy\n",
            "M55    Rakesh\n",
            "Name: Alunos, dtype: object\n"
          ]
        },
        {
          "output_type": "error",
          "ename": "KeyError",
          "evalue": "\"['M02'] not found in axis\"",
          "traceback": [
            "\u001b[0;31m---------------------------------------------------------------------------\u001b[0m",
            "\u001b[0;31mKeyError\u001b[0m                                  Traceback (most recent call last)",
            "\u001b[0;32m/tmp/ipython-input-3345132472.py\u001b[0m in \u001b[0;36m<cell line: 0>\u001b[0;34m()\u001b[0m\n\u001b[1;32m     16\u001b[0m \u001b[0;34m\u001b[0m\u001b[0m\n\u001b[1;32m     17\u001b[0m \u001b[0;31m# Remove o aluno de matricula M01 (Bob)\u001b[0m\u001b[0;34m\u001b[0m\u001b[0;34m\u001b[0m\u001b[0m\n\u001b[0;32m---> 18\u001b[0;31m \u001b[0mstudents\u001b[0m \u001b[0;34m=\u001b[0m \u001b[0mstudents\u001b[0m\u001b[0;34m.\u001b[0m\u001b[0mdrop\u001b[0m\u001b[0;34m(\u001b[0m\u001b[0;34m\"M02\"\u001b[0m\u001b[0;34m)\u001b[0m\u001b[0;34m\u001b[0m\u001b[0;34m\u001b[0m\u001b[0m\n\u001b[0m\u001b[1;32m     19\u001b[0m \u001b[0mprint\u001b[0m\u001b[0;34m(\u001b[0m\u001b[0mstudents\u001b[0m\u001b[0;34m)\u001b[0m\u001b[0;34m\u001b[0m\u001b[0;34m\u001b[0m\u001b[0m\n",
            "\u001b[0;32m/usr/local/lib/python3.11/dist-packages/pandas/core/series.py\u001b[0m in \u001b[0;36mdrop\u001b[0;34m(self, labels, axis, index, columns, level, inplace, errors)\u001b[0m\n\u001b[1;32m   5354\u001b[0m         \u001b[0mdtype\u001b[0m\u001b[0;34m:\u001b[0m \u001b[0mfloat64\u001b[0m\u001b[0;34m\u001b[0m\u001b[0;34m\u001b[0m\u001b[0m\n\u001b[1;32m   5355\u001b[0m         \"\"\"\n\u001b[0;32m-> 5356\u001b[0;31m         return super().drop(\n\u001b[0m\u001b[1;32m   5357\u001b[0m             \u001b[0mlabels\u001b[0m\u001b[0;34m=\u001b[0m\u001b[0mlabels\u001b[0m\u001b[0;34m,\u001b[0m\u001b[0;34m\u001b[0m\u001b[0;34m\u001b[0m\u001b[0m\n\u001b[1;32m   5358\u001b[0m             \u001b[0maxis\u001b[0m\u001b[0;34m=\u001b[0m\u001b[0maxis\u001b[0m\u001b[0;34m,\u001b[0m\u001b[0;34m\u001b[0m\u001b[0;34m\u001b[0m\u001b[0m\n",
            "\u001b[0;32m/usr/local/lib/python3.11/dist-packages/pandas/core/generic.py\u001b[0m in \u001b[0;36mdrop\u001b[0;34m(self, labels, axis, index, columns, level, inplace, errors)\u001b[0m\n\u001b[1;32m   4786\u001b[0m         \u001b[0;32mfor\u001b[0m \u001b[0maxis\u001b[0m\u001b[0;34m,\u001b[0m \u001b[0mlabels\u001b[0m \u001b[0;32min\u001b[0m \u001b[0maxes\u001b[0m\u001b[0;34m.\u001b[0m\u001b[0mitems\u001b[0m\u001b[0;34m(\u001b[0m\u001b[0;34m)\u001b[0m\u001b[0;34m:\u001b[0m\u001b[0;34m\u001b[0m\u001b[0;34m\u001b[0m\u001b[0m\n\u001b[1;32m   4787\u001b[0m             \u001b[0;32mif\u001b[0m \u001b[0mlabels\u001b[0m \u001b[0;32mis\u001b[0m \u001b[0;32mnot\u001b[0m \u001b[0;32mNone\u001b[0m\u001b[0;34m:\u001b[0m\u001b[0;34m\u001b[0m\u001b[0;34m\u001b[0m\u001b[0m\n\u001b[0;32m-> 4788\u001b[0;31m                 \u001b[0mobj\u001b[0m \u001b[0;34m=\u001b[0m \u001b[0mobj\u001b[0m\u001b[0;34m.\u001b[0m\u001b[0m_drop_axis\u001b[0m\u001b[0;34m(\u001b[0m\u001b[0mlabels\u001b[0m\u001b[0;34m,\u001b[0m \u001b[0maxis\u001b[0m\u001b[0;34m,\u001b[0m \u001b[0mlevel\u001b[0m\u001b[0;34m=\u001b[0m\u001b[0mlevel\u001b[0m\u001b[0;34m,\u001b[0m \u001b[0merrors\u001b[0m\u001b[0;34m=\u001b[0m\u001b[0merrors\u001b[0m\u001b[0;34m)\u001b[0m\u001b[0;34m\u001b[0m\u001b[0;34m\u001b[0m\u001b[0m\n\u001b[0m\u001b[1;32m   4789\u001b[0m \u001b[0;34m\u001b[0m\u001b[0m\n\u001b[1;32m   4790\u001b[0m         \u001b[0;32mif\u001b[0m \u001b[0minplace\u001b[0m\u001b[0;34m:\u001b[0m\u001b[0;34m\u001b[0m\u001b[0;34m\u001b[0m\u001b[0m\n",
            "\u001b[0;32m/usr/local/lib/python3.11/dist-packages/pandas/core/generic.py\u001b[0m in \u001b[0;36m_drop_axis\u001b[0;34m(self, labels, axis, level, errors, only_slice)\u001b[0m\n\u001b[1;32m   4828\u001b[0m                 \u001b[0mnew_axis\u001b[0m \u001b[0;34m=\u001b[0m \u001b[0maxis\u001b[0m\u001b[0;34m.\u001b[0m\u001b[0mdrop\u001b[0m\u001b[0;34m(\u001b[0m\u001b[0mlabels\u001b[0m\u001b[0;34m,\u001b[0m \u001b[0mlevel\u001b[0m\u001b[0;34m=\u001b[0m\u001b[0mlevel\u001b[0m\u001b[0;34m,\u001b[0m \u001b[0merrors\u001b[0m\u001b[0;34m=\u001b[0m\u001b[0merrors\u001b[0m\u001b[0;34m)\u001b[0m\u001b[0;34m\u001b[0m\u001b[0;34m\u001b[0m\u001b[0m\n\u001b[1;32m   4829\u001b[0m             \u001b[0;32melse\u001b[0m\u001b[0;34m:\u001b[0m\u001b[0;34m\u001b[0m\u001b[0;34m\u001b[0m\u001b[0m\n\u001b[0;32m-> 4830\u001b[0;31m                 \u001b[0mnew_axis\u001b[0m \u001b[0;34m=\u001b[0m \u001b[0maxis\u001b[0m\u001b[0;34m.\u001b[0m\u001b[0mdrop\u001b[0m\u001b[0;34m(\u001b[0m\u001b[0mlabels\u001b[0m\u001b[0;34m,\u001b[0m \u001b[0merrors\u001b[0m\u001b[0;34m=\u001b[0m\u001b[0merrors\u001b[0m\u001b[0;34m)\u001b[0m\u001b[0;34m\u001b[0m\u001b[0;34m\u001b[0m\u001b[0m\n\u001b[0m\u001b[1;32m   4831\u001b[0m             \u001b[0mindexer\u001b[0m \u001b[0;34m=\u001b[0m \u001b[0maxis\u001b[0m\u001b[0;34m.\u001b[0m\u001b[0mget_indexer\u001b[0m\u001b[0;34m(\u001b[0m\u001b[0mnew_axis\u001b[0m\u001b[0;34m)\u001b[0m\u001b[0;34m\u001b[0m\u001b[0;34m\u001b[0m\u001b[0m\n\u001b[1;32m   4832\u001b[0m \u001b[0;34m\u001b[0m\u001b[0m\n",
            "\u001b[0;32m/usr/local/lib/python3.11/dist-packages/pandas/core/indexes/base.py\u001b[0m in \u001b[0;36mdrop\u001b[0;34m(self, labels, errors)\u001b[0m\n\u001b[1;32m   7068\u001b[0m         \u001b[0;32mif\u001b[0m \u001b[0mmask\u001b[0m\u001b[0;34m.\u001b[0m\u001b[0many\u001b[0m\u001b[0;34m(\u001b[0m\u001b[0;34m)\u001b[0m\u001b[0;34m:\u001b[0m\u001b[0;34m\u001b[0m\u001b[0;34m\u001b[0m\u001b[0m\n\u001b[1;32m   7069\u001b[0m             \u001b[0;32mif\u001b[0m \u001b[0merrors\u001b[0m \u001b[0;34m!=\u001b[0m \u001b[0;34m\"ignore\"\u001b[0m\u001b[0;34m:\u001b[0m\u001b[0;34m\u001b[0m\u001b[0;34m\u001b[0m\u001b[0m\n\u001b[0;32m-> 7070\u001b[0;31m                 \u001b[0;32mraise\u001b[0m \u001b[0mKeyError\u001b[0m\u001b[0;34m(\u001b[0m\u001b[0;34mf\"{labels[mask].tolist()} not found in axis\"\u001b[0m\u001b[0;34m)\u001b[0m\u001b[0;34m\u001b[0m\u001b[0;34m\u001b[0m\u001b[0m\n\u001b[0m\u001b[1;32m   7071\u001b[0m             \u001b[0mindexer\u001b[0m \u001b[0;34m=\u001b[0m \u001b[0mindexer\u001b[0m\u001b[0;34m[\u001b[0m\u001b[0;34m~\u001b[0m\u001b[0mmask\u001b[0m\u001b[0;34m]\u001b[0m\u001b[0;34m\u001b[0m\u001b[0;34m\u001b[0m\u001b[0m\n\u001b[1;32m   7072\u001b[0m         \u001b[0;32mreturn\u001b[0m \u001b[0mself\u001b[0m\u001b[0;34m.\u001b[0m\u001b[0mdelete\u001b[0m\u001b[0;34m(\u001b[0m\u001b[0mindexer\u001b[0m\u001b[0;34m)\u001b[0m\u001b[0;34m\u001b[0m\u001b[0;34m\u001b[0m\u001b[0m\n",
            "\u001b[0;31mKeyError\u001b[0m: \"['M02'] not found in axis\""
          ]
        }
      ]
    },
    {
      "cell_type": "code",
      "source": [
        "# Mudando o Índice da Series\n",
        "\n",
        "students = pd.Series({'M02':'Bob', 'M05':'Dayse', 'M13':'Bill', 'M14':'Cris', 'M19':'Jimi'})\n",
        "print(students)\n",
        "\n",
        "students.index = ['M01', 'M02', 'M03', 'M04', 'M05']\n",
        "print(students)"
      ],
      "metadata": {
        "colab": {
          "base_uri": "https://localhost:8080/"
        },
        "id": "7LZWp0hOr9ZC",
        "outputId": "e32133d1-f899-4bbd-a6fe-f79c759f639b"
      },
      "execution_count": null,
      "outputs": [
        {
          "output_type": "stream",
          "name": "stdout",
          "text": [
            "M02      Bob\n",
            "M05    Dayse\n",
            "M13     Bill\n",
            "M14     Cris\n",
            "M19     Jimi\n",
            "dtype: object\n",
            "M01      Bob\n",
            "M02    Dayse\n",
            "M03     Bill\n",
            "M04     Cris\n",
            "M05     Jimi\n",
            "dtype: object\n"
          ]
        }
      ]
    },
    {
      "cell_type": "code",
      "source": [
        "# Iteração\n",
        "\n",
        "for student in students: print(student)\n",
        "\n",
        "for position in students.index: print(position)"
      ],
      "metadata": {
        "colab": {
          "base_uri": "https://localhost:8080/"
        },
        "id": "aY3XF69UsUSk",
        "outputId": "ade6d4d2-af8e-44c7-f5cf-f7d821cf59fd"
      },
      "execution_count": null,
      "outputs": [
        {
          "output_type": "stream",
          "name": "stdout",
          "text": [
            "Bob\n",
            "Dayse\n",
            "Bill\n",
            "Cris\n",
            "Jimi\n",
            "M01\n",
            "M02\n",
            "M03\n",
            "M04\n",
            "M05\n"
          ]
        }
      ]
    },
    {
      "cell_type": "code",
      "source": [
        "# Operações aritméticas com computação vetorizada\n",
        "import numpy as np\n",
        "\n",
        "# Cria a Series notas\n",
        "s1 = pd.Series([2, 4, 6])\n",
        "s2 = pd.Series([1, 3, 5])\n",
        "\n",
        "print('s1')\n",
        "print(s1)\n",
        "print('s2')\n",
        "print(s2)\n",
        "print('s1 * s2')\n",
        "print(s1 * s2)\n",
        "print('s1 + s2')\n",
        "print(s1 + s2)\n",
        "print('s1 - s2')\n",
        "print(s1 - s2)\n",
        "print('raiz quadrada dos elementos de s1')\n",
        "print(np.sqrt(s1))\n"
      ],
      "metadata": {
        "colab": {
          "base_uri": "https://localhost:8080/"
        },
        "id": "_v2gnAeAs2zG",
        "outputId": "17af76f1-287b-4800-dd2b-cedc325c7f9b"
      },
      "execution_count": null,
      "outputs": [
        {
          "output_type": "stream",
          "name": "stdout",
          "text": [
            "s1\n",
            "0    2\n",
            "1    4\n",
            "2    6\n",
            "dtype: int64\n",
            "s2\n",
            "0    1\n",
            "1    3\n",
            "2    5\n",
            "dtype: int64\n",
            "s1 * s2\n",
            "0     2\n",
            "1    12\n",
            "2    30\n",
            "dtype: int64\n",
            "s1 + s2\n",
            "0     3\n",
            "1     7\n",
            "2    11\n",
            "dtype: int64\n",
            "s1 - s2\n",
            "0    1\n",
            "1    1\n",
            "2    1\n",
            "dtype: int64\n",
            "raiz quadrada dos elementos de s1\n",
            "0    1.414214\n",
            "1    2.000000\n",
            "2    2.449490\n",
            "dtype: float64\n"
          ]
        }
      ]
    },
    {
      "cell_type": "code",
      "source": [
        "# valor NaN\n",
        "\n",
        "green = pd.Series({'BR': 1, 'FR': 0, 'IT': 1, 'UK': 0})\n",
        "blue = pd.Series({'AR': 1, 'BR': 1, 'FR': 1, 'IT': 0, 'UK': 1})\n",
        "total = green + blue\n",
        "print(\"soma\")\n",
        "print(total)\n",
        "print(\"-----------------\")\n",
        "print('isnull(total)')\n",
        "print(total.isnull())\n"
      ],
      "metadata": {
        "colab": {
          "base_uri": "https://localhost:8080/"
        },
        "id": "VOvobXPk2Yvw",
        "outputId": "849fbb00-28bc-47ca-8b1a-4b9bbe5b411d"
      },
      "execution_count": null,
      "outputs": [
        {
          "output_type": "stream",
          "name": "stdout",
          "text": [
            "soma\n",
            "AR    NaN\n",
            "BR    2.0\n",
            "FR    1.0\n",
            "IT    1.0\n",
            "UK    1.0\n",
            "dtype: float64\n",
            "-----------------\n",
            "isnull(total)\n",
            "AR     True\n",
            "BR    False\n",
            "FR    False\n",
            "IT    False\n",
            "UK    False\n",
            "dtype: bool\n"
          ]
        }
      ]
    },
    {
      "cell_type": "code",
      "source": [
        "# Indices datetime\n",
        "\n",
        "#(1) - cria uma serie temporal\n",
        "days= ['10/02/2019', '11/02/2019', '12/02/2019', '13/02/2019', '15/02/2019', '15/02/2019']\n",
        "temp_max = [31, 35, 34, 28, 27, 27]\n",
        "serie_temporal = pd.Series(temp_max, index=days)\n",
        "# print(serie_temporal)\n",
        "\n",
        "#(2) - converte o tipo do indice para datetime e imprime a serie\n",
        "serie_temporal.index = pd.to_datetime(serie_temporal.index, format='%d/%m/%Y')\n",
        "print(serie_temporal)"
      ],
      "metadata": {
        "colab": {
          "base_uri": "https://localhost:8080/"
        },
        "id": "3JYq1slx4xJH",
        "outputId": "0f5c3e7a-9ff6-40d8-8f82-023f87ed8d72"
      },
      "execution_count": null,
      "outputs": [
        {
          "output_type": "stream",
          "name": "stdout",
          "text": [
            "2019-02-10    31\n",
            "2019-02-11    35\n",
            "2019-02-12    34\n",
            "2019-02-13    28\n",
            "2019-02-15    27\n",
            "2019-02-15    27\n",
            "dtype: int64\n"
          ]
        }
      ]
    },
    {
      "cell_type": "code",
      "source": [
        "# Indexação hierarquica\n",
        "\n",
        "money = ['Peso', 'Real', 'Euro', 'Euro', 'Libra']\n",
        "countries = [['América', 'América', 'Europa', 'Europa', 'Europa'],\n",
        "              ['AR', 'BR', 'FR', 'IT', 'UK']]\n",
        "\n",
        "lst_countries = pd.Series(money, index=countries)\n",
        "print(lst_countries)\n",
        "print('---------')\n",
        "print(lst_countries['América'])\n",
        "print('---------')\n",
        "print(lst_countries[:,'IT'])\n",
        "print('---------')\n",
        "print(lst_countries['Europa', 'IT'])"
      ],
      "metadata": {
        "colab": {
          "base_uri": "https://localhost:8080/"
        },
        "id": "hKDDl3ux7FIp",
        "outputId": "f84a3232-3936-4a32-f6a7-621c6c14a11e"
      },
      "execution_count": null,
      "outputs": [
        {
          "output_type": "stream",
          "name": "stdout",
          "text": [
            "América  AR     Peso\n",
            "         BR     Real\n",
            "Europa   FR     Euro\n",
            "         IT     Euro\n",
            "         UK    Libra\n",
            "dtype: object\n",
            "---------\n",
            "AR    Peso\n",
            "BR    Real\n",
            "dtype: object\n",
            "---------\n",
            "Europa    Euro\n",
            "dtype: object\n",
            "---------\n",
            "Euro\n"
          ]
        }
      ]
    }
  ]
}